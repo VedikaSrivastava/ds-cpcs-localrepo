{
  "nbformat": 4,
  "nbformat_minor": 0,
  "metadata": {
    "colab": {
      "provenance": [],
      "authorship_tag": "ABX9TyNr6b9jRa4FHXA9JyA0RGCh",
      "include_colab_link": true
    },
    "kernelspec": {
      "name": "python3",
      "display_name": "Python 3"
    },
    "language_info": {
      "name": "python"
    },
    "accelerator": "GPU",
    "gpuClass": "standard"
  },
  "cells": [
    {
      "cell_type": "markdown",
      "metadata": {
        "id": "view-in-github",
        "colab_type": "text"
      },
      "source": [
        "<a href=\"https://colab.research.google.com/github/VedikaSrivastava/ds-cpcs-localrepo/blob/essex-plymouth/deliverable2_essex_plymouth.ipynb\" target=\"_parent\"><img src=\"https://colab.research.google.com/assets/colab-badge.svg\" alt=\"Open In Colab\"/></a>"
      ]
    },
    {
      "cell_type": "code",
      "execution_count": null,
      "metadata": {
        "colab": {
          "base_uri": "https://localhost:8080/"
        },
        "id": "FeCzyuF6zsg5",
        "outputId": "1111ba49-b8cd-4d10-b8a9-209bdc68d1f9"
      },
      "outputs": [
        {
          "output_type": "stream",
          "name": "stdout",
          "text": [
            "Mounted at /content/gdrive\n"
          ]
        }
      ],
      "source": [
        "from google.colab import drive\n",
        "drive.mount('/content/gdrive')"
      ]
    },
    {
      "cell_type": "code",
      "source": [
        "import pandas as pd\n",
        "import numpy as np\n",
        "import matplotlib.pylab as plt"
      ],
      "metadata": {
        "id": "w5MdbJ4Fz5jB"
      },
      "execution_count": null,
      "outputs": []
    },
    {
      "cell_type": "code",
      "source": [
        "data_essex = pd.read_excel(\"/content/gdrive/Shareddrives/BU Spark! CS506 - CPCS Team/DAMION Database Data/Essex/EssexData Arraigned  01-01-2004_01-20-2022.xlsx\")"
      ],
      "metadata": {
        "id": "PHR2uFzq0Gn6"
      },
      "execution_count": null,
      "outputs": []
    },
    {
      "cell_type": "code",
      "source": [
        "data_ply = pd.read_excel(\"/content/gdrive/Shareddrives/BU Spark! CS506 - CPCS Team/DAMION Database Data/Plymouth/DAMION Data from Plymouth County (Adult Cases only).xlsx\")"
      ],
      "metadata": {
        "id": "aTx1vIrT0WF4"
      },
      "execution_count": null,
      "outputs": []
    },
    {
      "cell_type": "code",
      "source": [
        "data_essex.head()"
      ],
      "metadata": {
        "colab": {
          "base_uri": "https://localhost:8080/",
          "height": 523
        },
        "id": "q7dNJ83j0eXC",
        "outputId": "4ab1325f-cbac-42e6-fa19-43feced092ee"
      },
      "execution_count": null,
      "outputs": [
        {
          "output_type": "execute_result",
          "data": {
            "text/plain": [
              "    Id Cs  Id Prsn Mstr Code Evnt  Date Evnt        Desc Ofcr Agncy  \\\n",
              "0  122714         51062       ARR 2007-07-11  Manchester by the Sea   \n",
              "1  122714         51062       ARR 2007-07-11  Manchester by the Sea   \n",
              "2   58796         54304       ARR 2004-12-22      Lynn Police Dept.   \n",
              "3   58796         54304       ARR 2004-12-22      Lynn Police Dept.   \n",
              "4   95241         54304       ARR 2006-06-13      Lynn Police Dept.   \n",
              "\n",
              "  Desc Crt Lctn (ACTION EVENT)             Date Crm Code Cs Sts Code Rc  \\\n",
              "0         Salem District Court  2007-05-21 00:00:00           C     NaN   \n",
              "1         Salem District Court  2007-05-21 00:00:00           C     NaN   \n",
              "2          Lynn District Court  2004-11-06 00:00:00           C       W   \n",
              "3          Lynn District Court  2004-11-06 00:00:00           C       W   \n",
              "4          Lynn District Court  2006-06-10 00:00:00           C       W   \n",
              "\n",
              "  Code Sex  ... Nmbr Day Actl Jl Impsd Nmbr Day Actl Jl Impsd Unt  \\\n",
              "0      NaN  ...                    NaN                          D   \n",
              "1      NaN  ...                    NaN                          D   \n",
              "2        M  ...                    NaN                          D   \n",
              "3        M  ...                    NaN                          D   \n",
              "4        M  ...                    NaN                          D   \n",
              "\n",
              "  Nmbr Rcmd Cmnty Srvc Min Nmbr R Cmnty Srvc Min Unt Nmbr Rcmd Cmnty Srvc  \\\n",
              "0                      NaN                         D                  NaN   \n",
              "1                      NaN                         D                  NaN   \n",
              "2                      NaN                         D                  NaN   \n",
              "3                      NaN                         D                  NaN   \n",
              "4                      NaN                         D                  NaN   \n",
              "\n",
              "  Nmbr R Cmnty Srvc Unt Nmbr Impsd Cmnty Srvc Min  \\\n",
              "0                     D                       NaN   \n",
              "1                     D                       NaN   \n",
              "2                     D                       NaN   \n",
              "3                     D                       NaN   \n",
              "4                     D                       NaN   \n",
              "\n",
              "  Nmbr Impsd Cmnty Srvc Min Unt Nmbr Impsd Cmnty Srvc  \\\n",
              "0                             D                   NaN   \n",
              "1                             D                   NaN   \n",
              "2                             D                   NaN   \n",
              "3                             D                   NaN   \n",
              "4                             D                   NaN   \n",
              "\n",
              "   Nmbr Impsd Cmnty Srvc Unt  \n",
              "0                          D  \n",
              "1                          D  \n",
              "2                          D  \n",
              "3                          D  \n",
              "4                          D  \n",
              "\n",
              "[5 rows x 52 columns]"
            ],
            "text/html": [
              "\n",
              "  <div id=\"df-c24f950f-8028-42fd-b7b9-b187adb144d8\">\n",
              "    <div class=\"colab-df-container\">\n",
              "      <div>\n",
              "<style scoped>\n",
              "    .dataframe tbody tr th:only-of-type {\n",
              "        vertical-align: middle;\n",
              "    }\n",
              "\n",
              "    .dataframe tbody tr th {\n",
              "        vertical-align: top;\n",
              "    }\n",
              "\n",
              "    .dataframe thead th {\n",
              "        text-align: right;\n",
              "    }\n",
              "</style>\n",
              "<table border=\"1\" class=\"dataframe\">\n",
              "  <thead>\n",
              "    <tr style=\"text-align: right;\">\n",
              "      <th></th>\n",
              "      <th>Id Cs</th>\n",
              "      <th>Id Prsn Mstr</th>\n",
              "      <th>Code Evnt</th>\n",
              "      <th>Date Evnt</th>\n",
              "      <th>Desc Ofcr Agncy</th>\n",
              "      <th>Desc Crt Lctn (ACTION EVENT)</th>\n",
              "      <th>Date Crm</th>\n",
              "      <th>Code Cs Sts</th>\n",
              "      <th>Code Rc</th>\n",
              "      <th>Code Sex</th>\n",
              "      <th>...</th>\n",
              "      <th>Nmbr Day Actl Jl Impsd</th>\n",
              "      <th>Nmbr Day Actl Jl Impsd Unt</th>\n",
              "      <th>Nmbr Rcmd Cmnty Srvc Min</th>\n",
              "      <th>Nmbr R Cmnty Srvc Min Unt</th>\n",
              "      <th>Nmbr Rcmd Cmnty Srvc</th>\n",
              "      <th>Nmbr R Cmnty Srvc Unt</th>\n",
              "      <th>Nmbr Impsd Cmnty Srvc Min</th>\n",
              "      <th>Nmbr Impsd Cmnty Srvc Min Unt</th>\n",
              "      <th>Nmbr Impsd Cmnty Srvc</th>\n",
              "      <th>Nmbr Impsd Cmnty Srvc Unt</th>\n",
              "    </tr>\n",
              "  </thead>\n",
              "  <tbody>\n",
              "    <tr>\n",
              "      <th>0</th>\n",
              "      <td>122714</td>\n",
              "      <td>51062</td>\n",
              "      <td>ARR</td>\n",
              "      <td>2007-07-11</td>\n",
              "      <td>Manchester by the Sea</td>\n",
              "      <td>Salem District Court</td>\n",
              "      <td>2007-05-21 00:00:00</td>\n",
              "      <td>C</td>\n",
              "      <td>NaN</td>\n",
              "      <td>NaN</td>\n",
              "      <td>...</td>\n",
              "      <td>NaN</td>\n",
              "      <td>D</td>\n",
              "      <td>NaN</td>\n",
              "      <td>D</td>\n",
              "      <td>NaN</td>\n",
              "      <td>D</td>\n",
              "      <td>NaN</td>\n",
              "      <td>D</td>\n",
              "      <td>NaN</td>\n",
              "      <td>D</td>\n",
              "    </tr>\n",
              "    <tr>\n",
              "      <th>1</th>\n",
              "      <td>122714</td>\n",
              "      <td>51062</td>\n",
              "      <td>ARR</td>\n",
              "      <td>2007-07-11</td>\n",
              "      <td>Manchester by the Sea</td>\n",
              "      <td>Salem District Court</td>\n",
              "      <td>2007-05-21 00:00:00</td>\n",
              "      <td>C</td>\n",
              "      <td>NaN</td>\n",
              "      <td>NaN</td>\n",
              "      <td>...</td>\n",
              "      <td>NaN</td>\n",
              "      <td>D</td>\n",
              "      <td>NaN</td>\n",
              "      <td>D</td>\n",
              "      <td>NaN</td>\n",
              "      <td>D</td>\n",
              "      <td>NaN</td>\n",
              "      <td>D</td>\n",
              "      <td>NaN</td>\n",
              "      <td>D</td>\n",
              "    </tr>\n",
              "    <tr>\n",
              "      <th>2</th>\n",
              "      <td>58796</td>\n",
              "      <td>54304</td>\n",
              "      <td>ARR</td>\n",
              "      <td>2004-12-22</td>\n",
              "      <td>Lynn Police Dept.</td>\n",
              "      <td>Lynn District Court</td>\n",
              "      <td>2004-11-06 00:00:00</td>\n",
              "      <td>C</td>\n",
              "      <td>W</td>\n",
              "      <td>M</td>\n",
              "      <td>...</td>\n",
              "      <td>NaN</td>\n",
              "      <td>D</td>\n",
              "      <td>NaN</td>\n",
              "      <td>D</td>\n",
              "      <td>NaN</td>\n",
              "      <td>D</td>\n",
              "      <td>NaN</td>\n",
              "      <td>D</td>\n",
              "      <td>NaN</td>\n",
              "      <td>D</td>\n",
              "    </tr>\n",
              "    <tr>\n",
              "      <th>3</th>\n",
              "      <td>58796</td>\n",
              "      <td>54304</td>\n",
              "      <td>ARR</td>\n",
              "      <td>2004-12-22</td>\n",
              "      <td>Lynn Police Dept.</td>\n",
              "      <td>Lynn District Court</td>\n",
              "      <td>2004-11-06 00:00:00</td>\n",
              "      <td>C</td>\n",
              "      <td>W</td>\n",
              "      <td>M</td>\n",
              "      <td>...</td>\n",
              "      <td>NaN</td>\n",
              "      <td>D</td>\n",
              "      <td>NaN</td>\n",
              "      <td>D</td>\n",
              "      <td>NaN</td>\n",
              "      <td>D</td>\n",
              "      <td>NaN</td>\n",
              "      <td>D</td>\n",
              "      <td>NaN</td>\n",
              "      <td>D</td>\n",
              "    </tr>\n",
              "    <tr>\n",
              "      <th>4</th>\n",
              "      <td>95241</td>\n",
              "      <td>54304</td>\n",
              "      <td>ARR</td>\n",
              "      <td>2006-06-13</td>\n",
              "      <td>Lynn Police Dept.</td>\n",
              "      <td>Lynn District Court</td>\n",
              "      <td>2006-06-10 00:00:00</td>\n",
              "      <td>C</td>\n",
              "      <td>W</td>\n",
              "      <td>M</td>\n",
              "      <td>...</td>\n",
              "      <td>NaN</td>\n",
              "      <td>D</td>\n",
              "      <td>NaN</td>\n",
              "      <td>D</td>\n",
              "      <td>NaN</td>\n",
              "      <td>D</td>\n",
              "      <td>NaN</td>\n",
              "      <td>D</td>\n",
              "      <td>NaN</td>\n",
              "      <td>D</td>\n",
              "    </tr>\n",
              "  </tbody>\n",
              "</table>\n",
              "<p>5 rows × 52 columns</p>\n",
              "</div>\n",
              "      <button class=\"colab-df-convert\" onclick=\"convertToInteractive('df-c24f950f-8028-42fd-b7b9-b187adb144d8')\"\n",
              "              title=\"Convert this dataframe to an interactive table.\"\n",
              "              style=\"display:none;\">\n",
              "        \n",
              "  <svg xmlns=\"http://www.w3.org/2000/svg\" height=\"24px\"viewBox=\"0 0 24 24\"\n",
              "       width=\"24px\">\n",
              "    <path d=\"M0 0h24v24H0V0z\" fill=\"none\"/>\n",
              "    <path d=\"M18.56 5.44l.94 2.06.94-2.06 2.06-.94-2.06-.94-.94-2.06-.94 2.06-2.06.94zm-11 1L8.5 8.5l.94-2.06 2.06-.94-2.06-.94L8.5 2.5l-.94 2.06-2.06.94zm10 10l.94 2.06.94-2.06 2.06-.94-2.06-.94-.94-2.06-.94 2.06-2.06.94z\"/><path d=\"M17.41 7.96l-1.37-1.37c-.4-.4-.92-.59-1.43-.59-.52 0-1.04.2-1.43.59L10.3 9.45l-7.72 7.72c-.78.78-.78 2.05 0 2.83L4 21.41c.39.39.9.59 1.41.59.51 0 1.02-.2 1.41-.59l7.78-7.78 2.81-2.81c.8-.78.8-2.07 0-2.86zM5.41 20L4 18.59l7.72-7.72 1.47 1.35L5.41 20z\"/>\n",
              "  </svg>\n",
              "      </button>\n",
              "      \n",
              "  <style>\n",
              "    .colab-df-container {\n",
              "      display:flex;\n",
              "      flex-wrap:wrap;\n",
              "      gap: 12px;\n",
              "    }\n",
              "\n",
              "    .colab-df-convert {\n",
              "      background-color: #E8F0FE;\n",
              "      border: none;\n",
              "      border-radius: 50%;\n",
              "      cursor: pointer;\n",
              "      display: none;\n",
              "      fill: #1967D2;\n",
              "      height: 32px;\n",
              "      padding: 0 0 0 0;\n",
              "      width: 32px;\n",
              "    }\n",
              "\n",
              "    .colab-df-convert:hover {\n",
              "      background-color: #E2EBFA;\n",
              "      box-shadow: 0px 1px 2px rgba(60, 64, 67, 0.3), 0px 1px 3px 1px rgba(60, 64, 67, 0.15);\n",
              "      fill: #174EA6;\n",
              "    }\n",
              "\n",
              "    [theme=dark] .colab-df-convert {\n",
              "      background-color: #3B4455;\n",
              "      fill: #D2E3FC;\n",
              "    }\n",
              "\n",
              "    [theme=dark] .colab-df-convert:hover {\n",
              "      background-color: #434B5C;\n",
              "      box-shadow: 0px 1px 3px 1px rgba(0, 0, 0, 0.15);\n",
              "      filter: drop-shadow(0px 1px 2px rgba(0, 0, 0, 0.3));\n",
              "      fill: #FFFFFF;\n",
              "    }\n",
              "  </style>\n",
              "\n",
              "      <script>\n",
              "        const buttonEl =\n",
              "          document.querySelector('#df-c24f950f-8028-42fd-b7b9-b187adb144d8 button.colab-df-convert');\n",
              "        buttonEl.style.display =\n",
              "          google.colab.kernel.accessAllowed ? 'block' : 'none';\n",
              "\n",
              "        async function convertToInteractive(key) {\n",
              "          const element = document.querySelector('#df-c24f950f-8028-42fd-b7b9-b187adb144d8');\n",
              "          const dataTable =\n",
              "            await google.colab.kernel.invokeFunction('convertToInteractive',\n",
              "                                                     [key], {});\n",
              "          if (!dataTable) return;\n",
              "\n",
              "          const docLinkHtml = 'Like what you see? Visit the ' +\n",
              "            '<a target=\"_blank\" href=https://colab.research.google.com/notebooks/data_table.ipynb>data table notebook</a>'\n",
              "            + ' to learn more about interactive tables.';\n",
              "          element.innerHTML = '';\n",
              "          dataTable['output_type'] = 'display_data';\n",
              "          await google.colab.output.renderOutput(dataTable, element);\n",
              "          const docLink = document.createElement('div');\n",
              "          docLink.innerHTML = docLinkHtml;\n",
              "          element.appendChild(docLink);\n",
              "        }\n",
              "      </script>\n",
              "    </div>\n",
              "  </div>\n",
              "  "
            ]
          },
          "metadata": {},
          "execution_count": 5
        }
      ]
    },
    {
      "cell_type": "code",
      "source": [
        "data_ply.head()"
      ],
      "metadata": {
        "colab": {
          "base_uri": "https://localhost:8080/",
          "height": 508
        },
        "id": "0dC38_MK0g3p",
        "outputId": "0ac0767e-4d1b-4016-d2d9-027179de492b"
      },
      "execution_count": null,
      "outputs": [
        {
          "output_type": "execute_result",
          "data": {
            "text/plain": [
              "  Case ID Number  Def. ID Number Race  Sex         Offense Date Filing Date  \\\n",
              "0  SPC-894751-01         53280.0    U    M  1957-07-26 00:00:00  1957-07-26   \n",
              "1  SPC-894751-01         53280.0    U    M  1957-07-26 00:00:00  1957-07-26   \n",
              "2  HDA-901646-01         49217.0    U  NaN  1971-12-24 00:00:00  1990-03-13   \n",
              "3  SPC-730005-01           177.0    W    M  1972-09-11 00:00:00  1985-07-31   \n",
              "4  SPC-730005-01           177.0    W    M  1972-09-11 00:00:00  1985-07-31   \n",
              "\n",
              "  Received Date Court Location Description  Count Filed Charge Code  ...  \\\n",
              "0    1957-07-26             Superior Court    1.0             265S1  ...   \n",
              "1    1957-07-26             Superior Court    2.0             265S1  ...   \n",
              "2    1971-12-24     Hingham District Court    1.0             273S1  ...   \n",
              "3    1973-01-04             Superior Court    1.0            266S16  ...   \n",
              "4    1973-01-04             Superior Court    2.0             274S6  ...   \n",
              "\n",
              "  Charge Type Description Filed Charge Category  Officer Agency Description  \\\n",
              "0                     NaN                   NaN  BROCKTON POLICE DEPARTMENT   \n",
              "1                     NaN                   NaN  BROCKTON POLICE DEPARTMENT   \n",
              "2                     NaN                   NaN      HULL POLICE DEPARTMENT   \n",
              "3                     NaN                   NaN   NORWELL POLICE DEPARTMENT   \n",
              "4                     NaN                   NaN   NORWELL POLICE DEPARTMENT   \n",
              "\n",
              "            Disp. Date Disp. Code     Disposition Description  \\\n",
              "0  1957-09-25 00:00:00         NG  Not Guilty Finding/Verdict   \n",
              "1  1957-09-25 00:00:00         NG  Not Guilty Finding/Verdict   \n",
              "2  1990-03-13 00:00:00         DM                   Dismissed   \n",
              "3  1985-10-31 00:00:00         DM                   Dismissed   \n",
              "4  1985-10-31 00:00:00         DM                   Dismissed   \n",
              "\n",
              "       Disp. Judge Name Sentence Type Sentence Type Description  \\\n",
              "0                   NaN           NaN                       NaN   \n",
              "1                   NaN           NaN                       NaN   \n",
              "2  MORIARTY, PAUL F. X.           NaN                       NaN   \n",
              "3          BYRON, CHRIS           NaN                       NaN   \n",
              "4          BYRON, CHRIS           NaN                       NaN   \n",
              "\n",
              "  Case Status Description  \n",
              "0                  Closed  \n",
              "1                  Closed  \n",
              "2                  Closed  \n",
              "3                  Closed  \n",
              "4                  Closed  \n",
              "\n",
              "[5 rows x 22 columns]"
            ],
            "text/html": [
              "\n",
              "  <div id=\"df-3905d4f0-3dc3-43b1-b38c-796bf39d32c4\">\n",
              "    <div class=\"colab-df-container\">\n",
              "      <div>\n",
              "<style scoped>\n",
              "    .dataframe tbody tr th:only-of-type {\n",
              "        vertical-align: middle;\n",
              "    }\n",
              "\n",
              "    .dataframe tbody tr th {\n",
              "        vertical-align: top;\n",
              "    }\n",
              "\n",
              "    .dataframe thead th {\n",
              "        text-align: right;\n",
              "    }\n",
              "</style>\n",
              "<table border=\"1\" class=\"dataframe\">\n",
              "  <thead>\n",
              "    <tr style=\"text-align: right;\">\n",
              "      <th></th>\n",
              "      <th>Case ID Number</th>\n",
              "      <th>Def. ID Number</th>\n",
              "      <th>Race</th>\n",
              "      <th>Sex</th>\n",
              "      <th>Offense Date</th>\n",
              "      <th>Filing Date</th>\n",
              "      <th>Received Date</th>\n",
              "      <th>Court Location Description</th>\n",
              "      <th>Count</th>\n",
              "      <th>Filed Charge Code</th>\n",
              "      <th>...</th>\n",
              "      <th>Charge Type Description</th>\n",
              "      <th>Filed Charge Category</th>\n",
              "      <th>Officer Agency Description</th>\n",
              "      <th>Disp. Date</th>\n",
              "      <th>Disp. Code</th>\n",
              "      <th>Disposition Description</th>\n",
              "      <th>Disp. Judge Name</th>\n",
              "      <th>Sentence Type</th>\n",
              "      <th>Sentence Type Description</th>\n",
              "      <th>Case Status Description</th>\n",
              "    </tr>\n",
              "  </thead>\n",
              "  <tbody>\n",
              "    <tr>\n",
              "      <th>0</th>\n",
              "      <td>SPC-894751-01</td>\n",
              "      <td>53280.0</td>\n",
              "      <td>U</td>\n",
              "      <td>M</td>\n",
              "      <td>1957-07-26 00:00:00</td>\n",
              "      <td>1957-07-26</td>\n",
              "      <td>1957-07-26</td>\n",
              "      <td>Superior Court</td>\n",
              "      <td>1.0</td>\n",
              "      <td>265S1</td>\n",
              "      <td>...</td>\n",
              "      <td>NaN</td>\n",
              "      <td>NaN</td>\n",
              "      <td>BROCKTON POLICE DEPARTMENT</td>\n",
              "      <td>1957-09-25 00:00:00</td>\n",
              "      <td>NG</td>\n",
              "      <td>Not Guilty Finding/Verdict</td>\n",
              "      <td>NaN</td>\n",
              "      <td>NaN</td>\n",
              "      <td>NaN</td>\n",
              "      <td>Closed</td>\n",
              "    </tr>\n",
              "    <tr>\n",
              "      <th>1</th>\n",
              "      <td>SPC-894751-01</td>\n",
              "      <td>53280.0</td>\n",
              "      <td>U</td>\n",
              "      <td>M</td>\n",
              "      <td>1957-07-26 00:00:00</td>\n",
              "      <td>1957-07-26</td>\n",
              "      <td>1957-07-26</td>\n",
              "      <td>Superior Court</td>\n",
              "      <td>2.0</td>\n",
              "      <td>265S1</td>\n",
              "      <td>...</td>\n",
              "      <td>NaN</td>\n",
              "      <td>NaN</td>\n",
              "      <td>BROCKTON POLICE DEPARTMENT</td>\n",
              "      <td>1957-09-25 00:00:00</td>\n",
              "      <td>NG</td>\n",
              "      <td>Not Guilty Finding/Verdict</td>\n",
              "      <td>NaN</td>\n",
              "      <td>NaN</td>\n",
              "      <td>NaN</td>\n",
              "      <td>Closed</td>\n",
              "    </tr>\n",
              "    <tr>\n",
              "      <th>2</th>\n",
              "      <td>HDA-901646-01</td>\n",
              "      <td>49217.0</td>\n",
              "      <td>U</td>\n",
              "      <td>NaN</td>\n",
              "      <td>1971-12-24 00:00:00</td>\n",
              "      <td>1990-03-13</td>\n",
              "      <td>1971-12-24</td>\n",
              "      <td>Hingham District Court</td>\n",
              "      <td>1.0</td>\n",
              "      <td>273S1</td>\n",
              "      <td>...</td>\n",
              "      <td>NaN</td>\n",
              "      <td>NaN</td>\n",
              "      <td>HULL POLICE DEPARTMENT</td>\n",
              "      <td>1990-03-13 00:00:00</td>\n",
              "      <td>DM</td>\n",
              "      <td>Dismissed</td>\n",
              "      <td>MORIARTY, PAUL F. X.</td>\n",
              "      <td>NaN</td>\n",
              "      <td>NaN</td>\n",
              "      <td>Closed</td>\n",
              "    </tr>\n",
              "    <tr>\n",
              "      <th>3</th>\n",
              "      <td>SPC-730005-01</td>\n",
              "      <td>177.0</td>\n",
              "      <td>W</td>\n",
              "      <td>M</td>\n",
              "      <td>1972-09-11 00:00:00</td>\n",
              "      <td>1985-07-31</td>\n",
              "      <td>1973-01-04</td>\n",
              "      <td>Superior Court</td>\n",
              "      <td>1.0</td>\n",
              "      <td>266S16</td>\n",
              "      <td>...</td>\n",
              "      <td>NaN</td>\n",
              "      <td>NaN</td>\n",
              "      <td>NORWELL POLICE DEPARTMENT</td>\n",
              "      <td>1985-10-31 00:00:00</td>\n",
              "      <td>DM</td>\n",
              "      <td>Dismissed</td>\n",
              "      <td>BYRON, CHRIS</td>\n",
              "      <td>NaN</td>\n",
              "      <td>NaN</td>\n",
              "      <td>Closed</td>\n",
              "    </tr>\n",
              "    <tr>\n",
              "      <th>4</th>\n",
              "      <td>SPC-730005-01</td>\n",
              "      <td>177.0</td>\n",
              "      <td>W</td>\n",
              "      <td>M</td>\n",
              "      <td>1972-09-11 00:00:00</td>\n",
              "      <td>1985-07-31</td>\n",
              "      <td>1973-01-04</td>\n",
              "      <td>Superior Court</td>\n",
              "      <td>2.0</td>\n",
              "      <td>274S6</td>\n",
              "      <td>...</td>\n",
              "      <td>NaN</td>\n",
              "      <td>NaN</td>\n",
              "      <td>NORWELL POLICE DEPARTMENT</td>\n",
              "      <td>1985-10-31 00:00:00</td>\n",
              "      <td>DM</td>\n",
              "      <td>Dismissed</td>\n",
              "      <td>BYRON, CHRIS</td>\n",
              "      <td>NaN</td>\n",
              "      <td>NaN</td>\n",
              "      <td>Closed</td>\n",
              "    </tr>\n",
              "  </tbody>\n",
              "</table>\n",
              "<p>5 rows × 22 columns</p>\n",
              "</div>\n",
              "      <button class=\"colab-df-convert\" onclick=\"convertToInteractive('df-3905d4f0-3dc3-43b1-b38c-796bf39d32c4')\"\n",
              "              title=\"Convert this dataframe to an interactive table.\"\n",
              "              style=\"display:none;\">\n",
              "        \n",
              "  <svg xmlns=\"http://www.w3.org/2000/svg\" height=\"24px\"viewBox=\"0 0 24 24\"\n",
              "       width=\"24px\">\n",
              "    <path d=\"M0 0h24v24H0V0z\" fill=\"none\"/>\n",
              "    <path d=\"M18.56 5.44l.94 2.06.94-2.06 2.06-.94-2.06-.94-.94-2.06-.94 2.06-2.06.94zm-11 1L8.5 8.5l.94-2.06 2.06-.94-2.06-.94L8.5 2.5l-.94 2.06-2.06.94zm10 10l.94 2.06.94-2.06 2.06-.94-2.06-.94-.94-2.06-.94 2.06-2.06.94z\"/><path d=\"M17.41 7.96l-1.37-1.37c-.4-.4-.92-.59-1.43-.59-.52 0-1.04.2-1.43.59L10.3 9.45l-7.72 7.72c-.78.78-.78 2.05 0 2.83L4 21.41c.39.39.9.59 1.41.59.51 0 1.02-.2 1.41-.59l7.78-7.78 2.81-2.81c.8-.78.8-2.07 0-2.86zM5.41 20L4 18.59l7.72-7.72 1.47 1.35L5.41 20z\"/>\n",
              "  </svg>\n",
              "      </button>\n",
              "      \n",
              "  <style>\n",
              "    .colab-df-container {\n",
              "      display:flex;\n",
              "      flex-wrap:wrap;\n",
              "      gap: 12px;\n",
              "    }\n",
              "\n",
              "    .colab-df-convert {\n",
              "      background-color: #E8F0FE;\n",
              "      border: none;\n",
              "      border-radius: 50%;\n",
              "      cursor: pointer;\n",
              "      display: none;\n",
              "      fill: #1967D2;\n",
              "      height: 32px;\n",
              "      padding: 0 0 0 0;\n",
              "      width: 32px;\n",
              "    }\n",
              "\n",
              "    .colab-df-convert:hover {\n",
              "      background-color: #E2EBFA;\n",
              "      box-shadow: 0px 1px 2px rgba(60, 64, 67, 0.3), 0px 1px 3px 1px rgba(60, 64, 67, 0.15);\n",
              "      fill: #174EA6;\n",
              "    }\n",
              "\n",
              "    [theme=dark] .colab-df-convert {\n",
              "      background-color: #3B4455;\n",
              "      fill: #D2E3FC;\n",
              "    }\n",
              "\n",
              "    [theme=dark] .colab-df-convert:hover {\n",
              "      background-color: #434B5C;\n",
              "      box-shadow: 0px 1px 3px 1px rgba(0, 0, 0, 0.15);\n",
              "      filter: drop-shadow(0px 1px 2px rgba(0, 0, 0, 0.3));\n",
              "      fill: #FFFFFF;\n",
              "    }\n",
              "  </style>\n",
              "\n",
              "      <script>\n",
              "        const buttonEl =\n",
              "          document.querySelector('#df-3905d4f0-3dc3-43b1-b38c-796bf39d32c4 button.colab-df-convert');\n",
              "        buttonEl.style.display =\n",
              "          google.colab.kernel.accessAllowed ? 'block' : 'none';\n",
              "\n",
              "        async function convertToInteractive(key) {\n",
              "          const element = document.querySelector('#df-3905d4f0-3dc3-43b1-b38c-796bf39d32c4');\n",
              "          const dataTable =\n",
              "            await google.colab.kernel.invokeFunction('convertToInteractive',\n",
              "                                                     [key], {});\n",
              "          if (!dataTable) return;\n",
              "\n",
              "          const docLinkHtml = 'Like what you see? Visit the ' +\n",
              "            '<a target=\"_blank\" href=https://colab.research.google.com/notebooks/data_table.ipynb>data table notebook</a>'\n",
              "            + ' to learn more about interactive tables.';\n",
              "          element.innerHTML = '';\n",
              "          dataTable['output_type'] = 'display_data';\n",
              "          await google.colab.output.renderOutput(dataTable, element);\n",
              "          const docLink = document.createElement('div');\n",
              "          docLink.innerHTML = docLinkHtml;\n",
              "          element.appendChild(docLink);\n",
              "        }\n",
              "      </script>\n",
              "    </div>\n",
              "  </div>\n",
              "  "
            ]
          },
          "metadata": {},
          "execution_count": 6
        }
      ]
    },
    {
      "cell_type": "markdown",
      "source": [
        "`TODO white vs non-white visualization`"
      ],
      "metadata": {
        "id": "34njFPbx0onF"
      }
    },
    {
      "cell_type": "code",
      "source": [
        "data_essex.isna().sum()"
      ],
      "metadata": {
        "id": "QQ9KbshW0wxG",
        "colab": {
          "base_uri": "https://localhost:8080/"
        },
        "outputId": "77767622-d8fd-4f27-f218-b84ec4f54d5d"
      },
      "execution_count": null,
      "outputs": [
        {
          "output_type": "execute_result",
          "data": {
            "text/plain": [
              "Id Cs                                  0\n",
              "Id Prsn Mstr                           0\n",
              "Code Evnt                              0\n",
              "Date Evnt                              0\n",
              "Desc Ofcr Agncy                     5865\n",
              "Desc Crt Lctn (ACTION EVENT)         980\n",
              "Date Crm                            1856\n",
              "Code Cs Sts                            0\n",
              "Code Rc                            63843\n",
              "Code Sex                            3934\n",
              "Date Dspstn                        62442\n",
              "Code Chrg                              0\n",
              "Name Jdg                          161782\n",
              "Desc Dspstn                        60882\n",
              "Code Dspstn                        60883\n",
              "Code Chrg Mdfr                    867191\n",
              "Code Lf                           683048\n",
              "Code Lf Prsctr                    909200\n",
              "Desc Chrg                              1\n",
              "Id Dfndnt Chrg                         0\n",
              "Nmbr Day Jl Rcmnd Min             912265\n",
              "Nmbr Day Jl Rcmnd Min Unt          71467\n",
              "Nmbr Day Jl Rcmnd                 909700\n",
              "Nmbr Day Jl Rcmnd Unt              69470\n",
              "Nmbr Day Jl Impsd Min             893965\n",
              "Nmbr Day Jl Impsd Min Unt          61844\n",
              "Nmbr Day Jl Impsd                 764727\n",
              "Nmbr Day Jl Impsd Unt              58540\n",
              "Nmbr D Jl Spnd Rcmnd Min          919936\n",
              "Nmbr D Jl Spnd R Min Unt           76258\n",
              "Nmbr Day Jl Spnd Rcmnd            919781\n",
              "Nmbr D Jl Spnd R Unt               76197\n",
              "Nmbr Day Jl Spnd Impsd Min        917012\n",
              "Nmbr Day Jl Spnd Impsd Min Unt     75492\n",
              "Nmbr Day Jl Spnd Impsd            875754\n",
              "Nmbr Day Jl Spnd Impsd Unt         74577\n",
              "Nmbr D Actl Jl Rcmnd Min          917474\n",
              "Nmbr Day Act Jl R Min Unt          75138\n",
              "Nmbr Day Actl Jl Rcmnd            917147\n",
              "Nmbr Day Act Jl R Unt              74914\n",
              "Nmbr Day Actl Jl Impsd Min        897388\n",
              "Nmbr Day Actl Jl Impsd Min Unt     62010\n",
              "Nmbr Day Actl Jl Impsd            838767\n",
              "Nmbr Day Actl Jl Impsd Unt         60131\n",
              "Nmbr Rcmd Cmnty Srvc Min          920074\n",
              "Nmbr R Cmnty Srvc Min Unt          76408\n",
              "Nmbr Rcmd Cmnty Srvc              919901\n",
              "Nmbr R Cmnty Srvc Unt              76409\n",
              "Nmbr Impsd Cmnty Srvc Min         919763\n",
              "Nmbr Impsd Cmnty Srvc Min Unt      76411\n",
              "Nmbr Impsd Cmnty Srvc             915322\n",
              "Nmbr Impsd Cmnty Srvc Unt          76240\n",
              "dtype: int64"
            ]
          },
          "metadata": {},
          "execution_count": 7
        }
      ]
    },
    {
      "cell_type": "code",
      "source": [
        "data_essex['Desc Dspstn']"
      ],
      "metadata": {
        "colab": {
          "base_uri": "https://localhost:8080/"
        },
        "id": "XH2NX3ua8rBg",
        "outputId": "8ea304c5-733e-4781-aaa5-a1d2b9914e50"
      },
      "execution_count": null,
      "outputs": [
        {
          "output_type": "execute_result",
          "data": {
            "text/plain": [
              "0                     Dismissed due to Indictment\n",
              "1                     Dismissed due to Indictment\n",
              "2         Dismissed Lack of Prosecution W/O Pred.\n",
              "3         Dismissed Lack of Prosecution W/O Pred.\n",
              "4                           Dismissed Court Costs\n",
              "                           ...                   \n",
              "920163                                        NaN\n",
              "920164                                        NaN\n",
              "920165                                        NaN\n",
              "920166                                        NaN\n",
              "920167                                        NaN\n",
              "Name: Desc Dspstn, Length: 920168, dtype: object"
            ]
          },
          "metadata": {},
          "execution_count": 74
        }
      ]
    },
    {
      "cell_type": "code",
      "source": [
        "len(data_essex)"
      ],
      "metadata": {
        "colab": {
          "base_uri": "https://localhost:8080/"
        },
        "id": "ZxFNK7P4bbHv",
        "outputId": "a1362ee8-4bf9-42e1-fd29-7490f28bbb91"
      },
      "execution_count": null,
      "outputs": [
        {
          "output_type": "execute_result",
          "data": {
            "text/plain": [
              "920168"
            ]
          },
          "metadata": {},
          "execution_count": 9
        }
      ]
    },
    {
      "cell_type": "code",
      "source": [
        "len(data_ply)"
      ],
      "metadata": {
        "colab": {
          "base_uri": "https://localhost:8080/"
        },
        "id": "OBJ2kltIbbah",
        "outputId": "80048896-2b6c-4a9d-b95e-c29b1957e7cb"
      },
      "execution_count": null,
      "outputs": [
        {
          "output_type": "execute_result",
          "data": {
            "text/plain": [
              "731304"
            ]
          },
          "metadata": {},
          "execution_count": 10
        }
      ]
    },
    {
      "cell_type": "code",
      "source": [
        "data_ply.isna().sum()"
      ],
      "metadata": {
        "colab": {
          "base_uri": "https://localhost:8080/"
        },
        "id": "qTB5Z8LzbNcv",
        "outputId": "a1947411-317b-4a4f-dad3-8baab6fa164f"
      },
      "execution_count": null,
      "outputs": [
        {
          "output_type": "execute_result",
          "data": {
            "text/plain": [
              "Case ID Number                     0\n",
              "Def. ID Number                     1\n",
              "Race                           29247\n",
              "Sex                             5934\n",
              "Offense Date                    4174\n",
              "Filing Date                        1\n",
              "Received Date                      1\n",
              "Court Location Description         1\n",
              "Count                              1\n",
              "Filed Charge Code                  1\n",
              "Filed Charge Description           1\n",
              "Filed Charge Type               2944\n",
              "Charge Type Description       223197\n",
              "Filed Charge Category         232033\n",
              "Officer Agency Description      4339\n",
              "Disp. Date                     50108\n",
              "Disp. Code                     49634\n",
              "Disposition Description        49634\n",
              "Disp. Judge Name               77494\n",
              "Sentence Type                 429540\n",
              "Sentence Type Description     429540\n",
              "Case Status Description            1\n",
              "dtype: int64"
            ]
          },
          "metadata": {},
          "execution_count": 11
        }
      ]
    },
    {
      "cell_type": "code",
      "source": [
        "data_essex[\"Code Chrg\"].value_counts()"
      ],
      "metadata": {
        "colab": {
          "base_uri": "https://localhost:8080/"
        },
        "id": "UJ9Y2mSMi6Vq",
        "outputId": "609c371f-9dcd-4cb3-912b-8cb391585314"
      },
      "execution_count": null,
      "outputs": [
        {
          "output_type": "execute_result",
          "data": {
            "text/plain": [
              "265/13A/B    46028\n",
              "90/23/D      38542\n",
              "90/10/A      35060\n",
              "89/4A        23434\n",
              "265/15A/A    22983\n",
              "             ...  \n",
              "140/147B         1\n",
              "268/15/C         1\n",
              "266/83           1\n",
              "266/59/A         1\n",
              "94G/13/J         1\n",
              "Name: Code Chrg, Length: 1824, dtype: int64"
            ]
          },
          "metadata": {},
          "execution_count": 14
        }
      ]
    },
    {
      "cell_type": "code",
      "source": [
        "data_ply[\"Filed Charge Code\"].value_counts()"
      ],
      "metadata": {
        "colab": {
          "base_uri": "https://localhost:8080/"
        },
        "id": "3VSp3027lZ4m",
        "outputId": "fa2a4747-ce03-47a3-d89a-5bb4f9adccbb"
      },
      "execution_count": null,
      "outputs": [
        {
          "output_type": "execute_result",
          "data": {
            "text/plain": [
              "265/13A/B    36890\n",
              "90/24/E      16135\n",
              "265S13A      15850\n",
              "265/15A/A    15118\n",
              "89/4A        14655\n",
              "             ...  \n",
              "90/12/B          1\n",
              "90BS8(E)         1\n",
              "12BRO41          1\n",
              "90BS2.3          1\n",
              "90BS12(B)        1\n",
              "Name: Filed Charge Code, Length: 2414, dtype: int64"
            ]
          },
          "metadata": {},
          "execution_count": 15
        }
      ]
    },
    {
      "cell_type": "code",
      "source": [
        "crime_code_essex = ['265/13A/B', '90/23/D', '90/10/A', '89/4A', '265/15A/A', '90/24/J', '90/34J', '266/30/A ', '272/53/F ', '209A/7']"
      ],
      "metadata": {
        "id": "ZmcERqoOnoYT"
      },
      "execution_count": null,
      "outputs": []
    },
    {
      "cell_type": "code",
      "source": [
        "data_essex[\"Code Chrg\"].value_counts()[:10]"
      ],
      "metadata": {
        "colab": {
          "base_uri": "https://localhost:8080/"
        },
        "id": "Iw6L7VSZn34x",
        "outputId": "aeea97de-14b8-49c7-efb1-da41adc2aec8"
      },
      "execution_count": null,
      "outputs": [
        {
          "output_type": "execute_result",
          "data": {
            "text/plain": [
              "265/13A/B    46028\n",
              "90/23/D      38542\n",
              "90/10/A      35060\n",
              "89/4A        23434\n",
              "265/15A/A    22983\n",
              "90/24/J      20908\n",
              "90/34J       20377\n",
              "266/30/A     17594\n",
              "272/53/F     16389\n",
              "209A/7       14360\n",
              "Name: Code Chrg, dtype: int64"
            ]
          },
          "metadata": {},
          "execution_count": 24
        }
      ]
    },
    {
      "cell_type": "code",
      "source": [
        "data_ply[\"Filed Charge Code\"].value_counts()[:10]"
      ],
      "metadata": {
        "colab": {
          "base_uri": "https://localhost:8080/"
        },
        "id": "O7qSQCP_oCaB",
        "outputId": "ac68882e-2a84-4458-eb9a-b0378a2fd894"
      },
      "execution_count": null,
      "outputs": [
        {
          "output_type": "execute_result",
          "data": {
            "text/plain": [
              "265/13A/B    36890\n",
              "90/24/E      16135\n",
              "265S13A      15850\n",
              "265/15A/A    15118\n",
              "89/4A        14655\n",
              "90/23/D      13256\n",
              "266/30/A     12983\n",
              "90/24/J      12823\n",
              "209A/7       11570\n",
              "275/2        11139\n",
              "Name: Filed Charge Code, dtype: int64"
            ]
          },
          "metadata": {},
          "execution_count": 25
        }
      ]
    },
    {
      "cell_type": "code",
      "source": [
        "crime_code_ply = ['265/13A/B', '90/24/E', '265S13A', '265/15A/A', '89/4A', '90/23/D', '266/30/A', '90/24/J', '209A/7', '275/2']"
      ],
      "metadata": {
        "id": "1uFJvV3upNgk"
      },
      "execution_count": null,
      "outputs": []
    },
    {
      "cell_type": "code",
      "source": [
        "\n",
        "for code in crime_code_ply:\n",
        "  df_dummy = data_ply.loc[data_ply[\"Filed Charge Code\"] == code]\n",
        "  print(df_dummy[\"Race\"].value_counts(normalize=True)[:4])\n",
        "  #plt.plot(df_dummy[\"Race\"].value_counts()[:4])\n",
        "  #display(plt.barh((df_dummy[\"Race\"].dropna()).unique()[:4], df_dummy[\"Race\"].value_counts()[:4])) "
      ],
      "metadata": {
        "colab": {
          "base_uri": "https://localhost:8080/"
        },
        "id": "jrB30HejpnWN",
        "outputId": "42f2ab54-7cad-40fd-8cae-b3fe8a19f273"
      },
      "execution_count": null,
      "outputs": [
        {
          "output_type": "stream",
          "name": "stdout",
          "text": [
            "W    0.624794\n",
            "B    0.304700\n",
            "U    0.026592\n",
            "H    0.020043\n",
            "Name: Race, dtype: float64\n",
            "W    0.829378\n",
            "B    0.113499\n",
            "U    0.027882\n",
            "H    0.014689\n",
            "Name: Race, dtype: float64\n",
            "W    0.494094\n",
            "B    0.233719\n",
            "U    0.195566\n",
            "H    0.043522\n",
            "Name: Race, dtype: float64\n",
            "W    0.578955\n",
            "B    0.355450\n",
            "U    0.023353\n",
            "H    0.019713\n",
            "Name: Race, dtype: float64\n",
            "W    0.806641\n",
            "B    0.131090\n",
            "U    0.030344\n",
            "H    0.015210\n",
            "Name: Race, dtype: float64\n",
            "W    0.619730\n",
            "B    0.300716\n",
            "H    0.030867\n",
            "U    0.027446\n",
            "Name: Race, dtype: float64\n",
            "W    0.736635\n",
            "B    0.198360\n",
            "U    0.032795\n",
            "H    0.013051\n",
            "Name: Race, dtype: float64\n",
            "W    0.828934\n",
            "B    0.112063\n",
            "U    0.030245\n",
            "H    0.012413\n",
            "Name: Race, dtype: float64\n",
            "W    0.734334\n",
            "B    0.201126\n",
            "U    0.027532\n",
            "H    0.014213\n",
            "Name: Race, dtype: float64\n",
            "W    0.560789\n",
            "B    0.367529\n",
            "U    0.024483\n",
            "H    0.021225\n",
            "Name: Race, dtype: float64\n"
          ]
        }
      ]
    },
    {
      "cell_type": "code",
      "source": [
        "# set width of bar\n",
        "barWidth = 0.2\n",
        "fig = plt.subplots(figsize =(15, 10))\n",
        "   \n",
        "\n",
        "# set height of bar\n",
        "W = [0.624794, 0.829378,  0.494094, 0.578955, 0.806641, 0.619730, 0.736635, 0.828934, 0.734334, 0.560789]\n",
        "B = [0.304700, 0.113499, 0.233719, 0.355450, 0.131090, 0.300716, 0.198360, 0.112063, 0.201126, 0.367529]\n",
        "U = [0.026592, 0.027882, 0.195566, 0.023353, 0.030344, 0.027446, 0.032795, 0.030245, 0.027532, 0.024483]\n",
        "H = [0.020043, 0.014689, 0.043522,  0.019713, 0.015210, 0.030867, 0.013051, 0.012413, 0.014213, 0.021225]\n",
        " \n",
        "# Set position of bar on X axis\n",
        "br1 = np.arange(len(W))\n",
        "br2 = [x + barWidth for x in br1]\n",
        "br3 = [x + barWidth for x in br2]\n",
        "br4 = [x + barWidth for x in br3]\n",
        " \n",
        "# Make the plot\n",
        "plt.bar(br1, W, color ='r', width = barWidth, edgecolor ='grey', label ='W')\n",
        "plt.bar(br2, B, color ='g', width = barWidth, edgecolor ='grey', label ='B')\n",
        "plt.bar(br3, U, color ='b', width = barWidth, edgecolor ='grey', label ='U')\n",
        "plt.bar(br4, H, color ='y', width = barWidth, edgecolor ='grey', label ='H')\n",
        " \n",
        "# Adding Xticks\n",
        "plt.xlabel('Crime Code', fontweight ='bold', fontsize = 15)\n",
        "plt.ylabel('Normalized Count', fontweight ='bold', fontsize = 15)\n",
        "plt.xticks([r + barWidth for r in range(len(W))], crime_code_ply)\n",
        "plt.title(\"County: Plymouth\")\n",
        "plt.legend()\n",
        "plt.show()"
      ],
      "metadata": {
        "colab": {
          "base_uri": "https://localhost:8080/",
          "height": 627
        },
        "id": "6jHxqtL3rmVr",
        "outputId": "2088b9f0-04a2-49b7-e075-5b583b7d8a4b"
      },
      "execution_count": null,
      "outputs": [
        {
          "output_type": "display_data",
          "data": {
            "text/plain": [
              "<Figure size 1080x720 with 1 Axes>"
            ],
            "image/png": "[encoded data removed]"
          },
          "metadata": {
            "needs_background": "light"
          }
        }
      ]
    },
    {
      "cell_type": "code",
      "source": [
        "for code in crime_code_essex:\n",
        "  df_dummy = data_essex.loc[data_essex[\"Code Chrg\"] == code]\n",
        "  print(code)\n",
        "  print(df_dummy['Code Rc'].value_counts(normalize = True)[:4])\n",
        "  print(\"\\n\")\n",
        "  #plt.plot(df_dummy[\"Race\"].value_counts()[:4])\n",
        "  #display(plt.barh((df_dummy[\"Race\"].dropna()).unique()[:4], df_dummy[\"Race\"].value_counts()[:4])) "
      ],
      "metadata": {
        "colab": {
          "base_uri": "https://localhost:8080/"
        },
        "id": "OSq9NhgSw7u3",
        "outputId": "6c5c6016-c9ca-4cf9-8155-bb0d71baf46a"
      },
      "execution_count": null,
      "outputs": [
        {
          "output_type": "stream",
          "name": "stdout",
          "text": [
            "265/13A/B\n",
            "W    0.543806\n",
            "H    0.270712\n",
            "B    0.107419\n",
            "U    0.060110\n",
            "Name: Code Rc, dtype: float64\n",
            "\n",
            "\n",
            "90/23/D\n",
            "W    0.576053\n",
            "H    0.256360\n",
            "B    0.100833\n",
            "U    0.044120\n",
            "Name: Code Rc, dtype: float64\n",
            "\n",
            "\n",
            "90/10/A\n",
            "W    0.433451\n",
            "H    0.392540\n",
            "U    0.100759\n",
            "B    0.056709\n",
            "Name: Code Rc, dtype: float64\n",
            "\n",
            "\n",
            "89/4A\n",
            "W    0.710554\n",
            "H    0.170377\n",
            "B    0.054747\n",
            "U    0.042432\n",
            "Name: Code Rc, dtype: float64\n",
            "\n",
            "\n",
            "265/15A/A\n",
            "W    0.481562\n",
            "H    0.299940\n",
            "B    0.138622\n",
            "U    0.059297\n",
            "Name: Code Rc, dtype: float64\n",
            "\n",
            "\n",
            "90/24/J\n",
            "W    0.732672\n",
            "H    0.154816\n",
            "U    0.046788\n",
            "B    0.042779\n",
            "Name: Code Rc, dtype: float64\n",
            "\n",
            "\n",
            "90/34J\n",
            "W    0.587598\n",
            "H    0.218340\n",
            "B    0.097840\n",
            "U    0.072724\n",
            "Name: Code Rc, dtype: float64\n",
            "\n",
            "\n",
            "266/30/A \n",
            "Series([], Name: Code Rc, dtype: float64)\n",
            "\n",
            "\n",
            "272/53/F \n",
            "Series([], Name: Code Rc, dtype: float64)\n",
            "\n",
            "\n",
            "209A/7\n",
            "W    0.613610\n",
            "H    0.218254\n",
            "B    0.113610\n",
            "U    0.045341\n",
            "Name: Code Rc, dtype: float64\n",
            "\n",
            "\n"
          ]
        }
      ]
    },
    {
      "cell_type": "code",
      "source": [
        "# set width of bar\n",
        "barWidth = 0.2\n",
        "fig = plt.subplots(figsize =(15, 10))\n",
        "   \n",
        "# set height of bar\n",
        "W = [0.543806, 0.576053,  0.433451,  0.710554, 0.481562, 0.732672, 0.587598, 0.613610]\n",
        "B = [0.107419, 0.100833, 0.056709, 0.054747, 0.138622, 0.042779, 0.097840, 0.113610]\n",
        "U = [0.060110, 0.044120, 0.100759, 0.042432, 0.059297, 0.046788, 0.072724, 0.045341]\n",
        "H = [0.270712, 0.256360, 0.392540,  0.170377, 0.299940, 0.154816, 0.218340, 0.218254]\n",
        " \n",
        "# Set position of bar on X axis\n",
        "br1 = np.arange(len(W))\n",
        "br2 = [x + barWidth for x in br1]\n",
        "br3 = [x + barWidth for x in br2]\n",
        "br4 = [x + barWidth for x in br3]\n",
        " \n",
        "# Make the plot\n",
        "plt.bar(br1, W, color ='r', width = barWidth, edgecolor ='grey', label ='W')\n",
        "plt.bar(br2, B, color ='g', width = barWidth, edgecolor ='grey', label ='B')\n",
        "plt.bar(br3, U, color ='b', width = barWidth, edgecolor ='grey', label ='U')\n",
        "plt.bar(br4, H, color ='y', width = barWidth, edgecolor ='grey', label ='H')\n",
        " \n",
        "# Adding Xticks\n",
        "plt.xlabel('Crime Code', fontweight ='bold', fontsize = 15)\n",
        "plt.ylabel('Normalized Count', fontweight ='bold', fontsize = 15)\n",
        "plt.xticks([r + barWidth for r in range(len(W))], ['265/13A/B', '90/23/D', '90/10/A', '89/4A', '265/15A/A', '90/24/J', '90/34J', '209A/7'])\n",
        "plt.title(\"County: Essex\")\n",
        "plt.legend()\n",
        "plt.show()"
      ],
      "metadata": {
        "colab": {
          "base_uri": "https://localhost:8080/",
          "height": 627
        },
        "id": "Dk7SCmOn0A2h",
        "outputId": "82f45de9-ccb6-4a8d-9f5a-335161b6d966"
      },
      "execution_count": null,
      "outputs": [
        {
          "output_type": "display_data",
          "data": {
            "text/plain": [
              "<Figure size 1080x720 with 1 Axes>"
            ],
            "image/png": "[encoded data removed]"
          },
          "metadata": {
            "needs_background": "light"
          }
        }
      ]
    },
    {
      "cell_type": "markdown",
      "source": [
        "# disposition - ply"
      ],
      "metadata": {
        "id": "2pz__fvW6Ssc"
      }
    },
    {
      "cell_type": "code",
      "source": [
        "len(data_ply)"
      ],
      "metadata": {
        "colab": {
          "base_uri": "https://localhost:8080/"
        },
        "id": "6j4i8Kvq6sac",
        "outputId": "ad2a464c-2d65-45ca-a963-ccca6b6ef7e6"
      },
      "execution_count": null,
      "outputs": [
        {
          "output_type": "execute_result",
          "data": {
            "text/plain": [
              "731304"
            ]
          },
          "metadata": {},
          "execution_count": 66
        }
      ]
    },
    {
      "cell_type": "code",
      "source": [
        "data_ply[\"Disposition Description\"].value_counts(normalize=True)"
      ],
      "metadata": {
        "colab": {
          "base_uri": "https://localhost:8080/"
        },
        "id": "go6MLzKJ6SMW",
        "outputId": "7de08331-a51d-4c3f-87cb-8fcf712a94e4"
      },
      "execution_count": null,
      "outputs": [
        {
          "output_type": "execute_result",
          "data": {
            "text/plain": [
              "Dismissed                                   0.409857\n",
              "Guilty Plea                                 0.251124\n",
              "Continued w/o Finding                       0.120709\n",
              "Not Guilty Finding/Verdict                  0.037870\n",
              "Not Responsible                             0.034768\n",
              "Guilty Finding/Verdict                      0.026599\n",
              "Guilty Finding/Verdict - Filed              0.025575\n",
              "Responsible - Filed                         0.023170\n",
              "Guilty Plea - Filed                         0.016534\n",
              "Nolle Prosequi                              0.013741\n",
              "Pre-Trial Probation                         0.012296\n",
              "Transferred                                 0.007118\n",
              "Dismissed - Pre-Arraign. (Diversion)        0.005470\n",
              "Filed w/o Change of Plea                    0.003408\n",
              "Responsible - Fined                         0.002536\n",
              "Guilty Plea - Lesser Charge                 0.002516\n",
              "Dismissed - Pre-Arraign. (Youth)            0.001699\n",
              "Directed Verdict/Finding of Not Guilty      0.001229\n",
              "Dismissed - Pre-Arraign. (non-Diversion)    0.000995\n",
              "No Billed by Grand Jury                     0.000643\n",
              "Guilty Finding - Lesser Charge              0.000626\n",
              "No Probable Cause                           0.000411\n",
              "Bound Over to Grand Jury                    0.000390\n",
              "Remanded to Clerk's Hearing                 0.000255\n",
              "Appeal - Withdrawn                          0.000230\n",
              "Discharged by Court/Clerk                   0.000194\n",
              "Nolle Prosequi - Pre-Arraign.               0.000018\n",
              "Diversion Completed                         0.000010\n",
              "Nolo Contendre Plea                         0.000007\n",
              "Name: Disposition Description, dtype: float64"
            ]
          },
          "metadata": {},
          "execution_count": 67
        }
      ]
    },
    {
      "cell_type": "code",
      "source": [
        "a = 0.409857\n",
        "b = 0.251124\n",
        "c = 0.120709\n",
        "d = 1 - (a+b+c)\n",
        "\n",
        "\n",
        "labels = \"Dismissed\", \"Guilty Plea\", \"Continued w/o Finding\", \"Other\"\n",
        "sizes = [a, b, c, d]\n",
        "#explode = (0, 0, 0, 0)  # only \"explode\" the 2nd slice (i.e. 'Hogs')\n",
        "\n",
        "fig, ax = plt.subplots()\n",
        "ax.pie(sizes, labels=labels, autopct='%1.1f%%', shadow=True, startangle=90)\n",
        "#ax.axis('equal')  # Equal aspect ratio ensures that pie is drawn as a circle.\n",
        "plt.title('Disposition Description - Plymouth')\n",
        "plt.show()"
      ],
      "metadata": {
        "colab": {
          "base_uri": "https://localhost:8080/",
          "height": 264
        },
        "id": "iCp_2h0w_9e4",
        "outputId": "fd502425-7d3d-41fe-80db-c32d70b9cf1e"
      },
      "execution_count": null,
      "outputs": [
        {
          "output_type": "display_data",
          "data": {
            "text/plain": [
              "<Figure size 432x288 with 1 Axes>"
            ],
            "image/png": "[encoded data removed]"
          },
          "metadata": {}
        }
      ]
    },
    {
      "cell_type": "code",
      "source": [
        "disposition_ply = [\"Dismissed\", \"Guilty Plea\", \"Continued w/o Finding\"]"
      ],
      "metadata": {
        "id": "lkZmibW96wm6"
      },
      "execution_count": null,
      "outputs": []
    },
    {
      "cell_type": "code",
      "source": [
        "for code in disposition_ply:\n",
        "  df_dummy = data_ply.loc[data_ply[\"Disposition Description\"] == code]\n",
        "  print(df_dummy[\"Race\"].value_counts(normalize=True)[:4])\n",
        "  #plt.plot(df_dummy[\"Race\"].value_counts()[:4])\n",
        "  #display(plt.barh((df_dummy[\"Race\"].dropna()).unique()[:4], df_dummy[\"Race\"].value_counts()[:4])) "
      ],
      "metadata": {
        "colab": {
          "base_uri": "https://localhost:8080/"
        },
        "id": "ZKtMie4G7VIs",
        "outputId": "adffae95-950d-489f-ed67-f6d6b68a790f"
      },
      "execution_count": null,
      "outputs": [
        {
          "output_type": "stream",
          "name": "stdout",
          "text": [
            "W    0.575873\n",
            "B    0.283363\n",
            "U    0.086668\n",
            "H    0.031237\n",
            "Name: Race, dtype: float64\n",
            "W    0.603200\n",
            "B    0.207607\n",
            "U    0.140421\n",
            "H    0.029792\n",
            "Name: Race, dtype: float64\n",
            "W    0.743180\n",
            "B    0.181146\n",
            "U    0.035682\n",
            "H    0.015047\n",
            "Name: Race, dtype: float64\n"
          ]
        }
      ]
    },
    {
      "cell_type": "code",
      "source": [
        "# set width of bar\n",
        "barWidth = 0.2\n",
        "fig = plt.subplots(figsize =(15, 10))\n",
        "   \n",
        "\n",
        "# set height of bar\n",
        "W = [0.575873,0.603200,0.743180]\n",
        "B = [0.283363,0.207607,0.181146]\n",
        "U = [0.086668,0.140421,0.035682]\n",
        "H = [0.031237,0.029792,0.015047]\n",
        " \n",
        "# Set position of bar on X axis\n",
        "br1 = np.arange(len(W))\n",
        "br2 = [x + barWidth for x in br1]\n",
        "br3 = [x + barWidth for x in br2]\n",
        "br4 = [x + barWidth for x in br3]\n",
        " \n",
        "# Make the plot\n",
        "plt.bar(br1, W, color ='r', width = barWidth, edgecolor ='grey', label ='W')\n",
        "plt.bar(br2, B, color ='g', width = barWidth, edgecolor ='grey', label ='B')\n",
        "plt.bar(br3, U, color ='b', width = barWidth, edgecolor ='grey', label ='U')\n",
        "plt.bar(br4, H, color ='y', width = barWidth, edgecolor ='grey', label ='H')\n",
        " \n",
        "# Adding Xticks\n",
        "plt.xlabel('Disposition', fontweight ='bold', fontsize = 15)\n",
        "plt.ylabel('Normalized Count', fontweight ='bold', fontsize = 15)\n",
        "plt.xticks([r + barWidth for r in range(len(W))], disposition_ply)\n",
        "plt.title(\"County: Plymouth\")\n",
        "plt.legend()\n",
        "plt.show()"
      ],
      "metadata": {
        "colab": {
          "base_uri": "https://localhost:8080/",
          "height": 627
        },
        "id": "tvKPtMVa7iRe",
        "outputId": "6d61c4ae-7ee9-40d8-f349-5d21c2c530af"
      },
      "execution_count": null,
      "outputs": [
        {
          "output_type": "display_data",
          "data": {
            "text/plain": [
              "<Figure size 1080x720 with 1 Axes>"
            ],
            "image/png": "[encoded data removed]"
          },
          "metadata": {
            "needs_background": "light"
          }
        }
      ]
    },
    {
      "cell_type": "markdown",
      "source": [
        "#Disposition essex"
      ],
      "metadata": {
        "id": "0NlZhNCE8HEy"
      }
    },
    {
      "cell_type": "code",
      "source": [
        "data_essex['Desc Dspstn'].value_counts(normalize=True)[:10]"
      ],
      "metadata": {
        "colab": {
          "base_uri": "https://localhost:8080/"
        },
        "id": "hfJaBuZf8LBx",
        "outputId": "7ca44ccd-eb98-4d20-a76a-7d08d9fdfb79"
      },
      "execution_count": null,
      "outputs": [
        {
          "output_type": "execute_result",
          "data": {
            "text/plain": [
              "Dismissed                                  0.165633\n",
              "Guilty                                     0.123419\n",
              "Continued Without Finding                  0.113271\n",
              "Dismissed Lack of Prosecution W/O Pred.    0.077682\n",
              "Dismissed Court Costs                      0.076716\n",
              "Dismissed due to Indictment                0.072833\n",
              "Responsible Filed                          0.064268\n",
              "Pled Guilty to Charge                      0.052157\n",
              "Not Responsible                            0.043261\n",
              "Nolle Prosequi                             0.030880\n",
              "Name: Desc Dspstn, dtype: float64"
            ]
          },
          "metadata": {},
          "execution_count": 76
        }
      ]
    },
    {
      "cell_type": "code",
      "source": [
        "a = 0.165633\n",
        "b = 0.123419\n",
        "c=0.113271\n",
        "d=0.077682\n",
        "e=0.076716\n",
        "f=0.072833\n",
        "g=0.064268\n",
        "h= 0.052157\n",
        "i=0.043261\n",
        "j=0.030880\n",
        "\n",
        "z = 1 - (a+b+c+d+e+f+g+h+i+j)\n",
        "\n",
        "\n",
        "labels = \"Dismissed\",\"Guilty\",\"Continued Without Finding\",\"Dismissed Lack of Prosecution W/O Pred.\",\"Dismissed Court constants\",\"Dismissed due to Indictment\", \"Responsible Filed \", \"Pled Guilty to Charge \", \"Not Responsible\", \"Nolle Prosequi\", \"Others\"\n",
        "sizes = [a,b,c,d,e,f,g,h,i,j,z]\n",
        "#explode = (0, 0, 0, 0, 0, 0,0,0,0,0,0)  # only \"explode\" the 2nd slice (i.e. 'Hogs')\n",
        "\n",
        "fig, ax = plt.subplots()\n",
        "ax.pie(sizes, labels=labels, autopct='%1.1f%%', shadow=True, startangle=90)\n",
        "#ax.axis('equal')  # Equal aspect ratio ensures that pie is drawn as a circle.\n",
        "plt.title('Disposition Description - Essex')\n",
        "plt.show()"
      ],
      "metadata": {
        "colab": {
          "base_uri": "https://localhost:8080/",
          "height": 264
        },
        "id": "VQe0hDlmCQec",
        "outputId": "cba72205-952f-4d65-bfeb-18f6169bb2b0"
      },
      "execution_count": null,
      "outputs": [
        {
          "output_type": "display_data",
          "data": {
            "text/plain": [
              "<Figure size 432x288 with 1 Axes>"
            ],
            "image/png": "[encoded data removed]"
          },
          "metadata": {}
        }
      ]
    },
    {
      "cell_type": "code",
      "source": [
        "disposition_ex = [\"Dismissed\",\"Guilty\",\"Continued Without Finding\",\"Dismissed Lack of Prosecution W/O Pred.\",\"Dismissed Court constants\",\"Dismissed due to Indictment\"]"
      ],
      "metadata": {
        "id": "TkoPqJ0l9C1b"
      },
      "execution_count": null,
      "outputs": []
    },
    {
      "cell_type": "code",
      "source": [
        "for code in disposition_ex:\n",
        "  df_dummy = data_essex.loc[data_essex['Desc Dspstn'] == code]\n",
        "  print(code)\n",
        "  print(df_dummy['Code Rc'].value_counts(normalize=True)[:4])\n",
        "  print()\n",
        "  #plt.plot(df_dummy[\"Race\"].value_counts()[:4])\n",
        "  #display(plt.barh((df_dummy[\"Race\"].dropna()).unique()[:4], df_dummy[\"Race\"].value_counts()[:4])) "
      ],
      "metadata": {
        "colab": {
          "base_uri": "https://localhost:8080/"
        },
        "id": "t4t5OvPN9dRb",
        "outputId": "23978757-9637-429e-a623-fa1ff88583ae"
      },
      "execution_count": null,
      "outputs": [
        {
          "output_type": "stream",
          "name": "stdout",
          "text": [
            "Dismissed\n",
            "W    0.575825\n",
            "H    0.248681\n",
            "B    0.097303\n",
            "U    0.052213\n",
            "Name: Code Rc, dtype: float64\n",
            "\n",
            "Guilty\n",
            "W    0.629786\n",
            "H    0.230731\n",
            "B    0.096283\n",
            "U    0.027728\n",
            "Name: Code Rc, dtype: float64\n",
            "\n",
            "Continued Without Finding\n",
            "W    0.696701\n",
            "H    0.177092\n",
            "B    0.061315\n",
            "U    0.044472\n",
            "Name: Code Rc, dtype: float64\n",
            "\n",
            "Dismissed Lack of Prosecution W/O Pred.\n",
            "W    0.460034\n",
            "H    0.300456\n",
            "B    0.145291\n",
            "U    0.070026\n",
            "Name: Code Rc, dtype: float64\n",
            "\n",
            "Dismissed Court constants\n",
            "Series([], Name: Code Rc, dtype: float64)\n",
            "\n",
            "Dismissed due to Indictment\n",
            "W    0.410969\n",
            "H    0.389206\n",
            "B    0.129232\n",
            "U    0.046363\n",
            "Name: Code Rc, dtype: float64\n",
            "\n"
          ]
        }
      ]
    },
    {
      "cell_type": "code",
      "source": [
        "# set width of bar\n",
        "barWidth = 0.2\n",
        "fig = plt.subplots(figsize =(15, 10))\n",
        "   \n",
        "   \n",
        "# set height of bar\n",
        "W = [0.575825,0.629786,0.696701,0.460034,0.410969]\n",
        "H = [0.248681,0.230731,0.177092,0.300456,0.389206]\n",
        "B = [0.097303,0.096283,0.061315,0.145291,0.129232]\n",
        "U = [0.052213,0.027728,0.044472,0.070026,0.046363]\n",
        "\n",
        " \n",
        "# Set position of bar on X axis\n",
        "br1 = np.arange(len(W))\n",
        "br2 = [x + barWidth for x in br1]\n",
        "br3 = [x + barWidth for x in br2]\n",
        "br4 = [x + barWidth for x in br3]\n",
        " \n",
        "# Make the plot\n",
        "plt.bar(br1, W, color ='r', width = barWidth, edgecolor ='grey', label ='W')\n",
        "plt.bar(br2, B, color ='g', width = barWidth, edgecolor ='grey', label ='B')\n",
        "plt.bar(br3, U, color ='b', width = barWidth, edgecolor ='grey', label ='U')\n",
        "plt.bar(br4, H, color ='y', width = barWidth, edgecolor ='grey', label ='H')\n",
        " \n",
        "# Adding Xticks\n",
        "plt.xlabel('Disposition', fontweight ='bold', fontsize = 15)\n",
        "plt.ylabel('Normalized Count', fontweight ='bold', fontsize = 15)\n",
        "plt.xticks([r + barWidth for r in range(len(W))], [\"Dismissed\",\"Guilty\",\"Continued Without\\n Finding\",\"Dismissed Lack of\\n Prosecution W/O Pred.\",\"Dismissed due to Indictment\"])\n",
        "plt.title(\"County: Essex\")\n",
        "plt.legend()\n",
        "plt.show()"
      ],
      "metadata": {
        "colab": {
          "base_uri": "https://localhost:8080/",
          "height": 638
        },
        "id": "5HP7SGHl9zyg",
        "outputId": "4407d747-02ca-4419-f095-e3b8655a7cad"
      },
      "execution_count": null,
      "outputs": [
        {
          "output_type": "display_data",
          "data": {
            "text/plain": [
              "<Figure size 1080x720 with 1 Axes>"
            ],
            "image/png": "[encoded data removed]"
          },
          "metadata": {
            "needs_background": "light"
          }
        }
      ]
    }
  ]
}